{
 "cells": [
  {
   "cell_type": "markdown",
   "metadata": {},
   "source": [
    "## Data Retrieval \n",
    "The following code shows data retrieval for a github user's profile"
   ]
  },
  {
   "cell_type": "code",
   "execution_count": 1,
   "metadata": {},
   "outputs": [
    {
     "name": "stdout",
     "output_type": "stream",
     "text": [
      "{'avatar_url': 'https://avatars3.githubusercontent.com/u/58368777?v=4',\n",
      " 'bio': '3rd Year Computer Science, Trinity College Dublin',\n",
      " 'blog': 'https://www.linkedin.com/in/abhay-khanka-31030b100/',\n",
      " 'company': None,\n",
      " 'created_at': '2019-11-30T16:43:42Z',\n",
      " 'email': None,\n",
      " 'events_url': 'https://api.github.com/users/abhayKRak3n/events{/privacy}',\n",
      " 'followers': 7,\n",
      " 'followers_url': 'https://api.github.com/users/abhayKRak3n/followers',\n",
      " 'following': 12,\n",
      " 'following_url': 'https://api.github.com/users/abhayKRak3n/following{/other_user}',\n",
      " 'gists_url': 'https://api.github.com/users/abhayKRak3n/gists{/gist_id}',\n",
      " 'gravatar_id': '',\n",
      " 'hireable': True,\n",
      " 'html_url': 'https://github.com/abhayKRak3n',\n",
      " 'id': 58368777,\n",
      " 'location': 'Dublin, Ireland',\n",
      " 'login': 'abhayKRak3n',\n",
      " 'name': 'Abhay Khanka',\n",
      " 'node_id': 'MDQ6VXNlcjU4MzY4Nzc3',\n",
      " 'organizations_url': 'https://api.github.com/users/abhayKRak3n/orgs',\n",
      " 'public_gists': 0,\n",
      " 'public_repos': 10,\n",
      " 'received_events_url': 'https://api.github.com/users/abhayKRak3n/received_events',\n",
      " 'repos_url': 'https://api.github.com/users/abhayKRak3n/repos',\n",
      " 'site_admin': False,\n",
      " 'starred_url': 'https://api.github.com/users/abhayKRak3n/starred{/owner}{/repo}',\n",
      " 'subscriptions_url': 'https://api.github.com/users/abhayKRak3n/subscriptions',\n",
      " 'twitter_username': None,\n",
      " 'type': 'User',\n",
      " 'updated_at': '2020-12-13T17:35:40Z',\n",
      " 'url': 'https://api.github.com/users/abhayKRak3n'}\n"
     ]
    }
   ],
   "source": [
    "import requests\n",
    "import os\n",
    "from pprint import pprint\n",
    " \n",
    "# github username\n",
    "username = \"abhayKRak3N\"\n",
    "repo_name = \"Unity-Projects\"\n",
    "# url to request\n",
    "url = f\"https://api.github.com/users/{username}\"\n",
    "# make the request and return the json\n",
    "user_data = requests.get(url).json()\n",
    "# pretty print JSON data\n",
    "pprint(user_data)"
   ]
  },
  {
   "cell_type": "markdown",
   "metadata": {},
   "source": [
    "The following code shows data retrieved about a repository"
   ]
  },
  {
   "cell_type": "code",
   "execution_count": 2,
   "metadata": {},
   "outputs": [
    {
     "name": "stdout",
     "output_type": "stream",
     "text": [
      "{'allow_merge_commit': True,\n",
      " 'allow_rebase_merge': True,\n",
      " 'allow_squash_merge': True,\n",
      " 'archive_url': 'https://api.github.com/repos/abhayKRak3n/3rd-Year/{archive_format}{/ref}',\n",
      " 'archived': False,\n",
      " 'assignees_url': 'https://api.github.com/repos/abhayKRak3n/3rd-Year/assignees{/user}',\n",
      " 'blobs_url': 'https://api.github.com/repos/abhayKRak3n/3rd-Year/git/blobs{/sha}',\n",
      " 'branches_url': 'https://api.github.com/repos/abhayKRak3n/3rd-Year/branches{/branch}',\n",
      " 'clone_url': 'https://github.com/abhayKRak3n/3rd-Year.git',\n",
      " 'collaborators_url': 'https://api.github.com/repos/abhayKRak3n/3rd-Year/collaborators{/collaborator}',\n",
      " 'comments_url': 'https://api.github.com/repos/abhayKRak3n/3rd-Year/comments{/number}',\n",
      " 'commits_url': 'https://api.github.com/repos/abhayKRak3n/3rd-Year/commits{/sha}',\n",
      " 'compare_url': 'https://api.github.com/repos/abhayKRak3n/3rd-Year/compare/{base}...{head}',\n",
      " 'contents_url': 'https://api.github.com/repos/abhayKRak3n/3rd-Year/contents/{+path}',\n",
      " 'contributors_url': 'https://api.github.com/repos/abhayKRak3n/3rd-Year/contributors',\n",
      " 'created_at': '2020-10-11T12:46:59Z',\n",
      " 'default_branch': 'main',\n",
      " 'delete_branch_on_merge': False,\n",
      " 'deployments_url': 'https://api.github.com/repos/abhayKRak3n/3rd-Year/deployments',\n",
      " 'description': None,\n",
      " 'disabled': False,\n",
      " 'downloads_url': 'https://api.github.com/repos/abhayKRak3n/3rd-Year/downloads',\n",
      " 'events_url': 'https://api.github.com/repos/abhayKRak3n/3rd-Year/events',\n",
      " 'fork': False,\n",
      " 'forks': 0,\n",
      " 'forks_count': 0,\n",
      " 'forks_url': 'https://api.github.com/repos/abhayKRak3n/3rd-Year/forks',\n",
      " 'full_name': 'abhayKRak3n/3rd-Year',\n",
      " 'git_commits_url': 'https://api.github.com/repos/abhayKRak3n/3rd-Year/git/commits{/sha}',\n",
      " 'git_refs_url': 'https://api.github.com/repos/abhayKRak3n/3rd-Year/git/refs{/sha}',\n",
      " 'git_tags_url': 'https://api.github.com/repos/abhayKRak3n/3rd-Year/git/tags{/sha}',\n",
      " 'git_url': 'git://github.com/abhayKRak3n/3rd-Year.git',\n",
      " 'has_downloads': True,\n",
      " 'has_issues': True,\n",
      " 'has_pages': False,\n",
      " 'has_projects': True,\n",
      " 'has_wiki': True,\n",
      " 'homepage': None,\n",
      " 'hooks_url': 'https://api.github.com/repos/abhayKRak3n/3rd-Year/hooks',\n",
      " 'html_url': 'https://github.com/abhayKRak3n/3rd-Year',\n",
      " 'id': 303119237,\n",
      " 'issue_comment_url': 'https://api.github.com/repos/abhayKRak3n/3rd-Year/issues/comments{/number}',\n",
      " 'issue_events_url': 'https://api.github.com/repos/abhayKRak3n/3rd-Year/issues/events{/number}',\n",
      " 'issues_url': 'https://api.github.com/repos/abhayKRak3n/3rd-Year/issues{/number}',\n",
      " 'keys_url': 'https://api.github.com/repos/abhayKRak3n/3rd-Year/keys{/key_id}',\n",
      " 'labels_url': 'https://api.github.com/repos/abhayKRak3n/3rd-Year/labels{/name}',\n",
      " 'language': 'Assembly',\n",
      " 'languages_url': 'https://api.github.com/repos/abhayKRak3n/3rd-Year/languages',\n",
      " 'license': None,\n",
      " 'merges_url': 'https://api.github.com/repos/abhayKRak3n/3rd-Year/merges',\n",
      " 'milestones_url': 'https://api.github.com/repos/abhayKRak3n/3rd-Year/milestones{/number}',\n",
      " 'mirror_url': None,\n",
      " 'name': '3rd-Year',\n",
      " 'network_count': 0,\n",
      " 'node_id': 'MDEwOlJlcG9zaXRvcnkzMDMxMTkyMzc=',\n",
      " 'notifications_url': 'https://api.github.com/repos/abhayKRak3n/3rd-Year/notifications{?since,all,participating}',\n",
      " 'open_issues': 0,\n",
      " 'open_issues_count': 0,\n",
      " 'owner': {'avatar_url': 'https://avatars3.githubusercontent.com/u/58368777?v=4',\n",
      "           'events_url': 'https://api.github.com/users/abhayKRak3n/events{/privacy}',\n",
      "           'followers_url': 'https://api.github.com/users/abhayKRak3n/followers',\n",
      "           'following_url': 'https://api.github.com/users/abhayKRak3n/following{/other_user}',\n",
      "           'gists_url': 'https://api.github.com/users/abhayKRak3n/gists{/gist_id}',\n",
      "           'gravatar_id': '',\n",
      "           'html_url': 'https://github.com/abhayKRak3n',\n",
      "           'id': 58368777,\n",
      "           'login': 'abhayKRak3n',\n",
      "           'node_id': 'MDQ6VXNlcjU4MzY4Nzc3',\n",
      "           'organizations_url': 'https://api.github.com/users/abhayKRak3n/orgs',\n",
      "           'received_events_url': 'https://api.github.com/users/abhayKRak3n/received_events',\n",
      "           'repos_url': 'https://api.github.com/users/abhayKRak3n/repos',\n",
      "           'site_admin': False,\n",
      "           'starred_url': 'https://api.github.com/users/abhayKRak3n/starred{/owner}{/repo}',\n",
      "           'subscriptions_url': 'https://api.github.com/users/abhayKRak3n/subscriptions',\n",
      "           'type': 'User',\n",
      "           'url': 'https://api.github.com/users/abhayKRak3n'},\n",
      " 'permissions': {'admin': True, 'pull': True, 'push': True},\n",
      " 'private': False,\n",
      " 'pulls_url': 'https://api.github.com/repos/abhayKRak3n/3rd-Year/pulls{/number}',\n",
      " 'pushed_at': '2020-12-09T17:41:45Z',\n",
      " 'releases_url': 'https://api.github.com/repos/abhayKRak3n/3rd-Year/releases{/id}',\n",
      " 'size': 2373,\n",
      " 'ssh_url': 'git@github.com:abhayKRak3n/3rd-Year.git',\n",
      " 'stargazers_count': 0,\n",
      " 'stargazers_url': 'https://api.github.com/repos/abhayKRak3n/3rd-Year/stargazers',\n",
      " 'statuses_url': 'https://api.github.com/repos/abhayKRak3n/3rd-Year/statuses/{sha}',\n",
      " 'subscribers_count': 1,\n",
      " 'subscribers_url': 'https://api.github.com/repos/abhayKRak3n/3rd-Year/subscribers',\n",
      " 'subscription_url': 'https://api.github.com/repos/abhayKRak3n/3rd-Year/subscription',\n",
      " 'svn_url': 'https://github.com/abhayKRak3n/3rd-Year',\n",
      " 'tags_url': 'https://api.github.com/repos/abhayKRak3n/3rd-Year/tags',\n",
      " 'teams_url': 'https://api.github.com/repos/abhayKRak3n/3rd-Year/teams',\n",
      " 'temp_clone_token': '',\n",
      " 'trees_url': 'https://api.github.com/repos/abhayKRak3n/3rd-Year/git/trees{/sha}',\n",
      " 'updated_at': '2020-12-09T17:41:47Z',\n",
      " 'url': 'https://api.github.com/repos/abhayKRak3n/3rd-Year',\n",
      " 'watchers': 0,\n",
      " 'watchers_count': 0}\n"
     ]
    }
   ],
   "source": [
    "#token = 0e73ef9c036ba7f19f0409e62d80ceca5b737ffc\n",
    "token = os.getenv('GITHUB_TOKEN', '...')\n",
    "owner = \"abhayKRak3N\"\n",
    "repo_name = \"3rd-Year\"\n",
    "query_url = f\"https://api.github.com/repos/{owner}/{repo_name}\"\n",
    "headers = {'Authorization': f'token {\"0e73ef9c036ba7f19f0409e62d80ceca5b737ffc\"}'}\n",
    "           \n",
    "r = requests.get(query_url, headers=headers)\n",
    "pprint(r.json())"
   ]
  },
  {
   "cell_type": "code",
   "execution_count": null,
   "metadata": {},
   "outputs": [],
   "source": []
  },
  {
   "cell_type": "code",
   "execution_count": null,
   "metadata": {},
   "outputs": [],
   "source": [
    "  "
   ]
  },
  {
   "cell_type": "code",
   "execution_count": null,
   "metadata": {},
   "outputs": [],
   "source": []
  }
 ],
 "metadata": {
  "kernelspec": {
   "display_name": "Python 3",
   "language": "python",
   "name": "python3"
  },
  "language_info": {
   "codemirror_mode": {
    "name": "ipython",
    "version": 3
   },
   "file_extension": ".py",
   "mimetype": "text/x-python",
   "name": "python",
   "nbconvert_exporter": "python",
   "pygments_lexer": "ipython3",
   "version": "3.7.4"
  }
 },
 "nbformat": 4,
 "nbformat_minor": 2
}
